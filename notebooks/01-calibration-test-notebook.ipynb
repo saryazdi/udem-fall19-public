{
 "cells": [
  {
   "cell_type": "code",
   "execution_count": null,
   "metadata": {},
   "outputs": [],
   "source": [
    "import os, sys\n",
    "module_path = os.path.abspath(os.path.join('..'))\n",
    "if module_path not in sys.path:\n",
    "    sys.path.append(module_path)\n",
    "from utils.helpers import launch_env, wrap_env, view_results_ipython, change_exercise\n",
    "\n",
    "import numpy as np"
   ]
  },
  {
   "cell_type": "markdown",
   "metadata": {},
   "source": [
    "# Overwriting Functions\n",
    "\n",
    "In this small example, we view the results with the default simulator on this branch, which has a much lower robot speed.\n",
    "\n",
    "Then, we show how we can overwrite a particular function, and rewrite it locally (for the simulator) and have corresponding outputs."
   ]
  },
  {
   "cell_type": "code",
   "execution_count": null,
   "metadata": {},
   "outputs": [],
   "source": [
    "change_exercise('01-calibration-test')\n",
    "\n",
    "local_env = launch_env()\n",
    "local_env = wrap_env(local_env)\n",
    "\n",
    "local_env.reset()\n",
    "for _ in range(1000):\n",
    "    _, _, d, _ = local_env.step(np.random.random(2))\n",
    "    if d: local_env.reset()"
   ]
  },
  {
   "cell_type": "code",
   "execution_count": null,
   "metadata": {},
   "outputs": [],
   "source": [
    "view_results_ipython(local_env)"
   ]
  },
  {
   "cell_type": "markdown",
   "metadata": {},
   "source": [
    "Here, we overwrite the `step()` function, allowing us to input our own action (or in a pedagogical setting, our own function, workflow, etc.)"
   ]
  },
  {
   "cell_type": "code",
   "execution_count": null,
   "metadata": {},
   "outputs": [],
   "source": [
    "from simulation.gym_duckietown.simulator import Simulator\n",
    "\n",
    "class updatedSimulator(Simulator):\n",
    "    def step(self, action):\n",
    "        action = [1.0, 1.0]\n",
    "        # Actions could be a Python list\n",
    "        action = np.array(action)\n",
    "        for _ in range(self.frame_skip):\n",
    "            self.update_physics(action)\n",
    "\n",
    "        # Generate the current camera image\n",
    "        obs = self.render_obs()\n",
    "        misc = self.get_agent_info()\n",
    "\n",
    "        d = self._compute_done_reward()\n",
    "        misc['Simulator']['msg'] = d.done_why\n",
    "\n",
    "        return obs, d.reward, d.done, misc\n",
    "    \n"
   ]
  },
  {
   "cell_type": "code",
   "execution_count": null,
   "metadata": {},
   "outputs": [],
   "source": [
    "local_env = launch_env(updatedSimulator)\n",
    "local_env = wrap_env(local_env)\n",
    "\n",
    "local_env.robot_speed *= 5\n",
    "local_env.reset()\n",
    "for _ in range(1000):\n",
    "    _, _, d, _ = local_env.step(np.random.random(2))\n",
    "    if d: local_env.reset() \n",
    "view_results_ipython(local_env)"
   ]
  }
 ],
 "metadata": {
  "kernelspec": {
   "display_name": "Python 3",
   "language": "python",
   "name": "python3"
  },
  "language_info": {
   "codemirror_mode": {
    "name": "ipython",
    "version": 3
   },
   "file_extension": ".py",
   "mimetype": "text/x-python",
   "name": "python",
   "nbconvert_exporter": "python",
   "pygments_lexer": "ipython3",
   "version": "3.7.3"
  }
 },
 "nbformat": 4,
 "nbformat_minor": 2
}
