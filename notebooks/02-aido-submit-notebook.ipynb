{
 "cells": [
  {
   "cell_type": "code",
   "execution_count": 1,
   "metadata": {},
   "outputs": [
    {
     "ename": "ModuleNotFoundError",
     "evalue": "No module named 'torch'",
     "output_type": "error",
     "traceback": [
      "\u001b[0;31m---------------------------------------------------------------------------\u001b[0m",
      "\u001b[0;31mModuleNotFoundError\u001b[0m                       Traceback (most recent call last)",
      "\u001b[0;32m<ipython-input-1-86ce3fa92385>\u001b[0m in \u001b[0;36m<module>\u001b[0;34m\u001b[0m\n\u001b[1;32m      3\u001b[0m \u001b[0;32mif\u001b[0m \u001b[0mmodule_path\u001b[0m \u001b[0;32mnot\u001b[0m \u001b[0;32min\u001b[0m \u001b[0msys\u001b[0m\u001b[0;34m.\u001b[0m\u001b[0mpath\u001b[0m\u001b[0;34m:\u001b[0m\u001b[0;34m\u001b[0m\u001b[0;34m\u001b[0m\u001b[0m\n\u001b[1;32m      4\u001b[0m     \u001b[0msys\u001b[0m\u001b[0;34m.\u001b[0m\u001b[0mpath\u001b[0m\u001b[0;34m.\u001b[0m\u001b[0mappend\u001b[0m\u001b[0;34m(\u001b[0m\u001b[0mmodule_path\u001b[0m\u001b[0;34m)\u001b[0m\u001b[0;34m\u001b[0m\u001b[0;34m\u001b[0m\u001b[0m\n\u001b[0;32m----> 5\u001b[0;31m \u001b[0;32mfrom\u001b[0m \u001b[0mutils\u001b[0m\u001b[0;34m.\u001b[0m\u001b[0mhelpers\u001b[0m \u001b[0;32mimport\u001b[0m \u001b[0mlaunch_env\u001b[0m\u001b[0;34m,\u001b[0m \u001b[0mwrap_env\u001b[0m\u001b[0;34m,\u001b[0m \u001b[0mview_results_ipython\u001b[0m\u001b[0;34m,\u001b[0m \u001b[0mchange_exercise\u001b[0m\u001b[0;34m\u001b[0m\u001b[0;34m\u001b[0m\u001b[0m\n\u001b[0m\u001b[1;32m      6\u001b[0m \u001b[0;34m\u001b[0m\u001b[0m\n\u001b[1;32m      7\u001b[0m \u001b[0;32mimport\u001b[0m \u001b[0mnumpy\u001b[0m \u001b[0;32mas\u001b[0m \u001b[0mnp\u001b[0m\u001b[0;34m\u001b[0m\u001b[0;34m\u001b[0m\u001b[0m\n",
      "\u001b[0;32m~/duckietown-mooc/udem-fall19/utils/helpers.py\u001b[0m in \u001b[0;36m<module>\u001b[0;34m\u001b[0m\n\u001b[1;32m      2\u001b[0m \u001b[0;32mfrom\u001b[0m \u001b[0mtyping\u001b[0m \u001b[0;32mimport\u001b[0m \u001b[0mTuple\u001b[0m\u001b[0;34m\u001b[0m\u001b[0;34m\u001b[0m\u001b[0m\n\u001b[1;32m      3\u001b[0m \u001b[0;34m\u001b[0m\u001b[0m\n\u001b[0;32m----> 4\u001b[0;31m \u001b[0;32mimport\u001b[0m \u001b[0mtorch\u001b[0m\u001b[0;34m\u001b[0m\u001b[0;34m\u001b[0m\u001b[0m\n\u001b[0m\u001b[1;32m      5\u001b[0m \u001b[0;32mimport\u001b[0m \u001b[0mrandom\u001b[0m\u001b[0;34m\u001b[0m\u001b[0;34m\u001b[0m\u001b[0m\n\u001b[1;32m      6\u001b[0m \u001b[0;32mimport\u001b[0m \u001b[0mnumpy\u001b[0m \u001b[0;32mas\u001b[0m \u001b[0mnp\u001b[0m\u001b[0;34m\u001b[0m\u001b[0;34m\u001b[0m\u001b[0m\n",
      "\u001b[0;31mModuleNotFoundError\u001b[0m: No module named 'torch'"
     ]
    }
   ],
   "source": [
    "import os, sys\n",
    "module_path = os.path.abspath(os.path.join('..'))\n",
    "if module_path not in sys.path:\n",
    "    sys.path.append(module_path)\n",
    "from utils.helpers import launch_env, wrap_env, view_results_ipython, change_exercise\n",
    "\n",
    "import numpy as np"
   ]
  },
  {
   "cell_type": "markdown",
   "metadata": {},
   "source": [
    "# Submitting to AIDO\n",
    "\n",
    "In this small example, we view the results with the default simulator on this branch, which has a much lower robot speed.\n",
    "\n",
    "Then, we show how we can overwrite a particular function, and rewrite it locally (for the simulator) and have corresponding outputs."
   ]
  },
  {
   "cell_type": "code",
   "execution_count": null,
   "metadata": {},
   "outputs": [],
   "source": [
    "change_exercise('01-calibration-test')\n",
    "\n",
    "local_env = launch_env()\n",
    "local_env = wrap_env(local_env)\n",
    "\n",
    "local_env.reset()\n",
    "for _ in range(1000):\n",
    "    _, _, d, _ = local_env.step(np.random.random(2))\n",
    "    if d: local_env.reset()"
   ]
  },
  {
   "cell_type": "code",
   "execution_count": null,
   "metadata": {},
   "outputs": [],
   "source": [
    "view_results_ipython(local_env)"
   ]
  },
  {
   "cell_type": "markdown",
   "metadata": {},
   "source": [
    "Here, we overwrite the `step()` function, allowing us to input our own action (or in a pedagogical setting, our own function, workflow, etc.)\n",
    "\n",
    "When you write helper functions, be sure to write them in `custom_helpers.py` so that you can use them later when we need to write a few more lines to update the AIDO submission.\n",
    "\n",
    "From there, you can update the two functions inside of `solution.py`, and submit your solution using `dts challenges submit`."
   ]
  },
  {
   "cell_type": "code",
   "execution_count": 1,
   "metadata": {},
   "outputs": [
    {
     "name": "stderr",
     "output_type": "stream",
     "text": [
      "INFO:gym-duckietown:gym-duckietown 2019.0.0\n",
      "\n",
      "INFO:gym-duckietown:Registering gym environment id: Duckietown-udem1-v0\n",
      "INFO:gym-duckietown:Registering gym environment id: Duckietown-zigzag_dists-v0\n",
      "INFO:gym-duckietown:Registering gym environment id: Duckietown-4way-v0\n",
      "INFO:gym-duckietown:Registering gym environment id: Duckietown-small_loop_cw-v0\n",
      "INFO:gym-duckietown:Registering gym environment id: Duckietown-loop_pedestrians-v0\n",
      "INFO:gym-duckietown:Registering gym environment id: Duckietown-straight_road-v0\n",
      "INFO:gym-duckietown:Registering gym environment id: Duckietown-loop_dyn_duckiebots-v0\n",
      "INFO:gym-duckietown:Registering gym environment id: Duckietown-small_loop-v0\n",
      "INFO:gym-duckietown:Registering gym environment id: Duckietown-loop_empty-v0\n",
      "INFO:gym-duckietown:Registering gym environment id: Duckietown-loop_obstacles-v0\n"
     ]
    }
   ],
   "source": [
    "from simulation.gym_duckietown.simulator import Simulator\n",
    "from custom.custom_helpers import encouragement\n",
    "\n",
    "class updatedSimulator(Simulator):\n",
    "    def step(self, action):\n",
    "        action = [1.0, 1.0]\n",
    "        # Actions could be a Python list\n",
    "        action = np.array(action)\n",
    "        encouragement()\n",
    "        for _ in range(self.frame_skip):\n",
    "            self.update_physics(action)\n",
    "\n",
    "        # Generate the current camera image\n",
    "        obs = self.render_obs()\n",
    "        misc = self.get_agent_info()\n",
    "\n",
    "        d = self._compute_done_reward()\n",
    "        misc['Simulator']['msg'] = d.done_why\n",
    "\n",
    "        return obs, d.reward, d.done, misc\n",
    "    \n"
   ]
  },
  {
   "cell_type": "code",
   "execution_count": 4,
   "metadata": {},
   "outputs": [
    {
     "name": "stderr",
     "output_type": "stream",
     "text": [
      "\u001b[2m20:34:28|\u001b[0mgym-duckietown\u001b[2m|simulator.py:535|_load_map(): \u001b[0m\u001b[35mloading map file \"/home/bhairavm/duckietown-mooc/udem-fall19/simulation/gym_duckietown/maps/loop_empty.yaml\"\u001b[0m\n",
      "\u001b[2m20:34:28|\u001b[0mgym-duckietown\u001b[2m|objmesh.py:50|__init__(): \u001b[0m\u001b[35mloading mesh \"duckiebot.obj\"\u001b[0m\n",
      "\u001b[2m20:34:28|\u001b[0mgym-duckietown\u001b[2m|objmesh.py:238|_load_mtl(): \u001b[0m\u001b[35mloading materials from \"/home/bhairavm/duckietown-mooc/udem-fall19/simulation/gym_duckietown/meshes/duckiebot.mtl\"\u001b[0m\n",
      "\u001b[2m20:34:28|\u001b[0mgym-duckietown\u001b[2m|objmesh.py:50|__init__(): \u001b[0m\u001b[35mloading mesh \"duckie.obj\"\u001b[0m\n",
      "\u001b[2m20:34:28|\u001b[0mgym-duckietown\u001b[2m|graphics.py:60|load_texture(): \u001b[0m\u001b[35mloading texture \"duckie.png\"\u001b[0m\n",
      "\u001b[2m20:34:29|\u001b[0mgym-duckietown\u001b[2m|objmesh.py:50|__init__(): \u001b[0m\u001b[35mloading mesh \"cone.obj\"\u001b[0m\n",
      "\u001b[2m20:34:29|\u001b[0mgym-duckietown\u001b[2m|graphics.py:60|load_texture(): \u001b[0m\u001b[35mloading texture \"cone.png\"\u001b[0m\n",
      "\u001b[2m20:34:29|\u001b[0mgym-duckietown\u001b[2m|graphics.py:60|load_texture(): \u001b[0m\u001b[35mloading texture \"floor_1.png\"\u001b[0m\n",
      "\u001b[2m20:34:29|\u001b[0mgym-duckietown\u001b[2m|graphics.py:60|load_texture(): \u001b[0m\u001b[35mloading texture \"curve_left_1.png\"\u001b[0m\n",
      "\u001b[2m20:34:29|\u001b[0mgym-duckietown\u001b[2m|graphics.py:60|load_texture(): \u001b[0m\u001b[35mloading texture \"straight_1.png\"\u001b[0m\n",
      "\u001b[2m20:34:29|\u001b[0mgym-duckietown\u001b[2m|graphics.py:60|load_texture(): \u001b[0m\u001b[35mloading texture \"curve_right_1.png\"\u001b[0m\n",
      "\u001b[2m20:34:29|\u001b[0mgym-duckietown\u001b[2m|simulator.py:1092|_drivable_pos(): \u001b[0m\u001b[35m[4.13719561 0.         1.88880899] corresponds to tile at (7, 3) which is not drivable: {'coords': (7, 3), 'kind': 'floor', 'angle': 0, 'drivable': False, 'texture': <simulation.gym_duckietown.graphics.Texture object at 0x7f391eba9978>, 'color': array([1, 1, 1])}\u001b[0m\n",
      "\u001b[2m20:34:29|\u001b[0mgym-duckietown\u001b[2m|simulator.py:1202|_valid_pose(): \u001b[0m\u001b[35mInvalid pose. Collision free: True On drivable area: False\u001b[0m\n",
      "\u001b[2m20:34:29|\u001b[0mgym-duckietown\u001b[2m|simulator.py:1203|_valid_pose(): \u001b[0m\u001b[35msafety_factor: 1.3\u001b[0m\n",
      "\u001b[2m20:34:29|\u001b[0mgym-duckietown\u001b[2m|simulator.py:1204|_valid_pose(): \u001b[0m\u001b[35mpos: [4.0873995 0.        1.9726338]\u001b[0m\n",
      "\u001b[2m20:34:29|\u001b[0mgym-duckietown\u001b[2m|simulator.py:1205|_valid_pose(): \u001b[0m\u001b[35ml_pos: [4.03760339 0.         2.0564586 ]\u001b[0m\n",
      "\u001b[2m20:34:29|\u001b[0mgym-duckietown\u001b[2m|simulator.py:1206|_valid_pose(): \u001b[0m\u001b[35mr_pos: [4.13719561 0.         1.88880899]\u001b[0m\n",
      "\u001b[2m20:34:29|\u001b[0mgym-duckietown\u001b[2m|simulator.py:1207|_valid_pose(): \u001b[0m\u001b[35mf_pos: [3.98680973 0.         1.91287847]\u001b[0m\n",
      "\u001b[2m20:34:29|\u001b[0mgym-duckietown\u001b[2m|simulator.py:1092|_drivable_pos(): \u001b[0m\u001b[35m[4.10908822 0.         2.30642426] corresponds to tile at (7, 3) which is not drivable: {'coords': (7, 3), 'kind': 'floor', 'angle': 0, 'drivable': False, 'texture': <simulation.gym_duckietown.graphics.Texture object at 0x7f391eba9978>, 'color': array([1, 1, 1])}\u001b[0m\n",
      "\u001b[2m20:34:29|\u001b[0mgym-duckietown\u001b[2m|simulator.py:1202|_valid_pose(): \u001b[0m\u001b[35mInvalid pose. Collision free: True On drivable area: False\u001b[0m\n",
      "\u001b[2m20:34:29|\u001b[0mgym-duckietown\u001b[2m|simulator.py:1203|_valid_pose(): \u001b[0m\u001b[35msafety_factor: 1.3\u001b[0m\n",
      "\u001b[2m20:34:29|\u001b[0mgym-duckietown\u001b[2m|simulator.py:1204|_valid_pose(): \u001b[0m\u001b[35mpos: [4.0793971  0.         2.21355507]\u001b[0m\n",
      "\u001b[2m20:34:29|\u001b[0mgym-duckietown\u001b[2m|simulator.py:1205|_valid_pose(): \u001b[0m\u001b[35ml_pos: [4.10908822 0.         2.30642426]\u001b[0m\n",
      "\u001b[2m20:34:29|\u001b[0mgym-duckietown\u001b[2m|simulator.py:1206|_valid_pose(): \u001b[0m\u001b[35mr_pos: [4.04970598 0.         2.12068587]\u001b[0m\n",
      "\u001b[2m20:34:29|\u001b[0mgym-duckietown\u001b[2m|simulator.py:1207|_valid_pose(): \u001b[0m\u001b[35mf_pos: [3.96795406 0.         2.24918441]\u001b[0m\n",
      "\u001b[2m20:34:29|\u001b[0mgym-duckietown\u001b[2m|simulator.py:1092|_drivable_pos(): \u001b[0m\u001b[35m[3.47880119 0.         2.23809688] corresponds to tile at (5, 3) which is not drivable: {'coords': (5, 3), 'kind': 'floor', 'angle': 0, 'drivable': False, 'texture': <simulation.gym_duckietown.graphics.Texture object at 0x7f391eba9978>, 'color': array([1, 1, 1])}\u001b[0m\n",
      "\u001b[2m20:34:29|\u001b[0mgym-duckietown\u001b[2m|simulator.py:1202|_valid_pose(): \u001b[0m\u001b[35mInvalid pose. Collision free: True On drivable area: False\u001b[0m\n",
      "\u001b[2m20:34:29|\u001b[0mgym-duckietown\u001b[2m|simulator.py:1203|_valid_pose(): \u001b[0m\u001b[35msafety_factor: 1.3\u001b[0m\n",
      "\u001b[2m20:34:29|\u001b[0mgym-duckietown\u001b[2m|simulator.py:1204|_valid_pose(): \u001b[0m\u001b[35mpos: [3.54467288 0.         2.16621385]\u001b[0m\n",
      "\u001b[2m20:34:29|\u001b[0mgym-duckietown\u001b[2m|simulator.py:1205|_valid_pose(): \u001b[0m\u001b[35ml_pos: [3.47880119 0.         2.23809688]\u001b[0m\n",
      "\u001b[2m20:34:29|\u001b[0mgym-duckietown\u001b[2m|simulator.py:1206|_valid_pose(): \u001b[0m\u001b[35mr_pos: [3.61054457 0.         2.09433082]\u001b[0m\n",
      "\u001b[2m20:34:29|\u001b[0mgym-duckietown\u001b[2m|simulator.py:1207|_valid_pose(): \u001b[0m\u001b[35mf_pos: [3.45841324 0.         2.08716782]\u001b[0m\n",
      "\u001b[2m20:34:29|\u001b[0mgym-duckietown\u001b[2m|simulator.py:1092|_drivable_pos(): \u001b[0m\u001b[35m[4.11902599 0.         2.07053136] corresponds to tile at (7, 3) which is not drivable: {'coords': (7, 3), 'kind': 'floor', 'angle': 0, 'drivable': False, 'texture': <simulation.gym_duckietown.graphics.Texture object at 0x7f391eba9978>, 'color': array([1, 1, 1])}\u001b[0m\n",
      "\u001b[2m20:34:29|\u001b[0mgym-duckietown\u001b[2m|simulator.py:1202|_valid_pose(): \u001b[0m\u001b[35mInvalid pose. Collision free: True On drivable area: False\u001b[0m\n",
      "\u001b[2m20:34:29|\u001b[0mgym-duckietown\u001b[2m|simulator.py:1203|_valid_pose(): \u001b[0m\u001b[35msafety_factor: 1.3\u001b[0m\n",
      "\u001b[2m20:34:29|\u001b[0mgym-duckietown\u001b[2m|simulator.py:1204|_valid_pose(): \u001b[0m\u001b[35mpos: [4.05777514 0.         2.14639032]\u001b[0m\n",
      "\u001b[2m20:34:29|\u001b[0mgym-duckietown\u001b[2m|simulator.py:1205|_valid_pose(): \u001b[0m\u001b[35ml_pos: [4.11902599 0.         2.07053136]\u001b[0m\n",
      "\u001b[2m20:34:29|\u001b[0mgym-duckietown\u001b[2m|simulator.py:1206|_valid_pose(): \u001b[0m\u001b[35mr_pos: [3.99652428 0.         2.22224929]\u001b[0m\n",
      "\u001b[2m20:34:29|\u001b[0mgym-duckietown\u001b[2m|simulator.py:1207|_valid_pose(): \u001b[0m\u001b[35mf_pos: [4.14880589 0.         2.21989135]\u001b[0m\n",
      "\u001b[2m20:34:29|\u001b[0mgym-duckietown\u001b[2m|simulator.py:1092|_drivable_pos(): \u001b[0m\u001b[35m[4.11072664 0.         2.23740683] corresponds to tile at (7, 3) which is not drivable: {'coords': (7, 3), 'kind': 'floor', 'angle': 0, 'drivable': False, 'texture': <simulation.gym_duckietown.graphics.Texture object at 0x7f391eba9978>, 'color': array([1, 1, 1])}\u001b[0m\n",
      "\u001b[2m20:34:29|\u001b[0mgym-duckietown\u001b[2m|simulator.py:1202|_valid_pose(): \u001b[0m\u001b[35mInvalid pose. Collision free: True On drivable area: False\u001b[0m\n",
      "\u001b[2m20:34:29|\u001b[0mgym-duckietown\u001b[2m|simulator.py:1203|_valid_pose(): \u001b[0m\u001b[35msafety_factor: 1.3\u001b[0m\n",
      "\u001b[2m20:34:29|\u001b[0mgym-duckietown\u001b[2m|simulator.py:1204|_valid_pose(): \u001b[0m\u001b[35mpos: [4.06163269 0.         2.15316887]\u001b[0m\n",
      "\u001b[2m20:34:29|\u001b[0mgym-duckietown\u001b[2m|simulator.py:1205|_valid_pose(): \u001b[0m\u001b[35ml_pos: [4.11072664 0.         2.23740683]\u001b[0m\n",
      "\u001b[2m20:34:29|\u001b[0mgym-duckietown\u001b[2m|simulator.py:1206|_valid_pose(): \u001b[0m\u001b[35mr_pos: [4.01253874 0.         2.0689309 ]\u001b[0m\n",
      "\u001b[2m20:34:29|\u001b[0mgym-duckietown\u001b[2m|simulator.py:1207|_valid_pose(): \u001b[0m\u001b[35mf_pos: [3.96054713 0.         2.2120816 ]\u001b[0m\n",
      "\u001b[2m20:34:29|\u001b[0mgym-duckietown\u001b[2m|simulator.py:1092|_drivable_pos(): \u001b[0m\u001b[35m[4.09719614 0.         2.20147659] corresponds to tile at (7, 3) which is not drivable: {'coords': (7, 3), 'kind': 'floor', 'angle': 0, 'drivable': False, 'texture': <simulation.gym_duckietown.graphics.Texture object at 0x7f391eba9978>, 'color': array([1, 1, 1])}\u001b[0m\n",
      "\u001b[2m20:34:29|\u001b[0mgym-duckietown\u001b[2m|simulator.py:1202|_valid_pose(): \u001b[0m\u001b[35mInvalid pose. Collision free: True On drivable area: False\u001b[0m\n",
      "\u001b[2m20:34:29|\u001b[0mgym-duckietown\u001b[2m|simulator.py:1203|_valid_pose(): \u001b[0m\u001b[35msafety_factor: 1.3\u001b[0m\n",
      "\u001b[2m20:34:29|\u001b[0mgym-duckietown\u001b[2m|simulator.py:1204|_valid_pose(): \u001b[0m\u001b[35mpos: [4.00591875 0.         2.23575032]\u001b[0m\n",
      "\u001b[2m20:34:29|\u001b[0mgym-duckietown\u001b[2m|simulator.py:1205|_valid_pose(): \u001b[0m\u001b[35ml_pos: [4.09719614 0.         2.20147659]\u001b[0m\n",
      "\u001b[2m20:34:29|\u001b[0mgym-duckietown\u001b[2m|simulator.py:1206|_valid_pose(): \u001b[0m\u001b[35mr_pos: [3.91464137 0.         2.27002405]\u001b[0m\n",
      "\u001b[2m20:34:29|\u001b[0mgym-duckietown\u001b[2m|simulator.py:1207|_valid_pose(): \u001b[0m\u001b[35mf_pos: [4.04704723 0.         2.34528318]\u001b[0m\n",
      "\u001b[2m20:34:29|\u001b[0mgym-duckietown\u001b[2m|simulator.py:1092|_drivable_pos(): \u001b[0m\u001b[35m[3.48173779 0.         2.07668522] corresponds to tile at (5, 3) which is not drivable: {'coords': (5, 3), 'kind': 'floor', 'angle': 0, 'drivable': False, 'texture': <simulation.gym_duckietown.graphics.Texture object at 0x7f391eba9978>, 'color': array([1, 1, 1])}\u001b[0m\n"
     ]
    },
    {
     "name": "stderr",
     "output_type": "stream",
     "text": [
      "\u001b[2m20:34:29|\u001b[0mgym-duckietown\u001b[2m|simulator.py:1202|_valid_pose(): \u001b[0m\u001b[35mInvalid pose. Collision free: True On drivable area: False\u001b[0m\n",
      "\u001b[2m20:34:29|\u001b[0mgym-duckietown\u001b[2m|simulator.py:1203|_valid_pose(): \u001b[0m\u001b[35msafety_factor: 1.3\u001b[0m\n",
      "\u001b[2m20:34:29|\u001b[0mgym-duckietown\u001b[2m|simulator.py:1204|_valid_pose(): \u001b[0m\u001b[35mpos: [3.59826268 0.         2.08721855]\u001b[0m\n",
      "\u001b[2m20:34:29|\u001b[0mgym-duckietown\u001b[2m|simulator.py:1205|_valid_pose(): \u001b[0m\u001b[35ml_pos: [3.5894849  0.         2.18432262]\u001b[0m\n",
      "\u001b[2m20:34:29|\u001b[0mgym-duckietown\u001b[2m|simulator.py:1206|_valid_pose(): \u001b[0m\u001b[35mr_pos: [3.60704045 0.         1.99011448]\u001b[0m\n",
      "\u001b[2m20:34:29|\u001b[0mgym-duckietown\u001b[2m|simulator.py:1207|_valid_pose(): \u001b[0m\u001b[35mf_pos: [3.48173779 0.         2.07668522]\u001b[0m\n",
      "\u001b[2m20:34:29|\u001b[0mgym-duckietown\u001b[2m|simulator.py:1092|_drivable_pos(): \u001b[0m\u001b[35m[3.48172154 0.         1.84866924] corresponds to tile at (5, 3) which is not drivable: {'coords': (5, 3), 'kind': 'floor', 'angle': 0, 'drivable': False, 'texture': <simulation.gym_duckietown.graphics.Texture object at 0x7f391eba9978>, 'color': array([1, 1, 1])}\u001b[0m\n",
      "\u001b[2m20:34:29|\u001b[0mgym-duckietown\u001b[2m|simulator.py:1202|_valid_pose(): \u001b[0m\u001b[35mInvalid pose. Collision free: True On drivable area: False\u001b[0m\n",
      "\u001b[2m20:34:29|\u001b[0mgym-duckietown\u001b[2m|simulator.py:1203|_valid_pose(): \u001b[0m\u001b[35msafety_factor: 1.3\u001b[0m\n",
      "\u001b[2m20:34:29|\u001b[0mgym-duckietown\u001b[2m|simulator.py:1204|_valid_pose(): \u001b[0m\u001b[35mpos: [3.57292165 0.         1.88314807]\u001b[0m\n",
      "\u001b[2m20:34:29|\u001b[0mgym-duckietown\u001b[2m|simulator.py:1205|_valid_pose(): \u001b[0m\u001b[35ml_pos: [3.48172154 0.         1.84866924]\u001b[0m\n",
      "\u001b[2m20:34:29|\u001b[0mgym-duckietown\u001b[2m|simulator.py:1206|_valid_pose(): \u001b[0m\u001b[35mr_pos: [3.66412176 0.         1.91762689]\u001b[0m\n",
      "\u001b[2m20:34:29|\u001b[0mgym-duckietown\u001b[2m|simulator.py:1207|_valid_pose(): \u001b[0m\u001b[35mf_pos: [3.61429624 0.         1.77370793]\u001b[0m\n",
      "\u001b[2m20:34:29|\u001b[0mgym-duckietown\u001b[2m|simulator.py:1092|_drivable_pos(): \u001b[0m\u001b[35m[3.50690495 0.         2.23654429] corresponds to tile at (5, 3) which is not drivable: {'coords': (5, 3), 'kind': 'floor', 'angle': 0, 'drivable': False, 'texture': <simulation.gym_duckietown.graphics.Texture object at 0x7f391eba9978>, 'color': array([1, 1, 1])}\u001b[0m\n",
      "\u001b[2m20:34:29|\u001b[0mgym-duckietown\u001b[2m|simulator.py:1202|_valid_pose(): \u001b[0m\u001b[35mInvalid pose. Collision free: True On drivable area: False\u001b[0m\n",
      "\u001b[2m20:34:29|\u001b[0mgym-duckietown\u001b[2m|simulator.py:1203|_valid_pose(): \u001b[0m\u001b[35msafety_factor: 1.3\u001b[0m\n",
      "\u001b[2m20:34:29|\u001b[0mgym-duckietown\u001b[2m|simulator.py:1204|_valid_pose(): \u001b[0m\u001b[35mpos: [3.6172817  0.         2.19773742]\u001b[0m\n",
      "\u001b[2m20:34:29|\u001b[0mgym-duckietown\u001b[2m|simulator.py:1205|_valid_pose(): \u001b[0m\u001b[35ml_pos: [3.64962075 0.         2.28971804]\u001b[0m\n",
      "\u001b[2m20:34:29|\u001b[0mgym-duckietown\u001b[2m|simulator.py:1206|_valid_pose(): \u001b[0m\u001b[35mr_pos: [3.58494264 0.         2.10575679]\u001b[0m\n",
      "\u001b[2m20:34:29|\u001b[0mgym-duckietown\u001b[2m|simulator.py:1207|_valid_pose(): \u001b[0m\u001b[35mf_pos: [3.50690495 0.         2.23654429]\u001b[0m\n",
      "\u001b[2m20:34:29|\u001b[0mgym-duckietown\u001b[2m|simulator.py:1092|_drivable_pos(): \u001b[0m\u001b[35m[4.11050548 0.         2.28364106] corresponds to tile at (7, 3) which is not drivable: {'coords': (7, 3), 'kind': 'floor', 'angle': 0, 'drivable': False, 'texture': <simulation.gym_duckietown.graphics.Texture object at 0x7f391eba9978>, 'color': array([1, 1, 1])}\u001b[0m\n",
      "\u001b[2m20:34:29|\u001b[0mgym-duckietown\u001b[2m|simulator.py:1202|_valid_pose(): \u001b[0m\u001b[35mInvalid pose. Collision free: True On drivable area: False\u001b[0m\n",
      "\u001b[2m20:34:29|\u001b[0mgym-duckietown\u001b[2m|simulator.py:1203|_valid_pose(): \u001b[0m\u001b[35msafety_factor: 1.3\u001b[0m\n",
      "\u001b[2m20:34:29|\u001b[0mgym-duckietown\u001b[2m|simulator.py:1204|_valid_pose(): \u001b[0m\u001b[35mpos: [4.00116556 0.         2.24200236]\u001b[0m\n",
      "\u001b[2m20:34:29|\u001b[0mgym-duckietown\u001b[2m|simulator.py:1205|_valid_pose(): \u001b[0m\u001b[35ml_pos: [4.03586448 0.         2.15088576]\u001b[0m\n",
      "\u001b[2m20:34:29|\u001b[0mgym-duckietown\u001b[2m|simulator.py:1206|_valid_pose(): \u001b[0m\u001b[35mr_pos: [3.96646664 0.         2.33311896]\u001b[0m\n",
      "\u001b[2m20:34:29|\u001b[0mgym-duckietown\u001b[2m|simulator.py:1207|_valid_pose(): \u001b[0m\u001b[35mf_pos: [4.11050548 0.         2.28364106]\u001b[0m\n",
      "\u001b[2m20:34:29|\u001b[0mgym-duckietown\u001b[2m|simulator.py:1092|_drivable_pos(): \u001b[0m\u001b[35m[3.50186974 0.         2.10261411] corresponds to tile at (5, 3) which is not drivable: {'coords': (5, 3), 'kind': 'floor', 'angle': 0, 'drivable': False, 'texture': <simulation.gym_duckietown.graphics.Texture object at 0x7f391eba9978>, 'color': array([1, 1, 1])}\u001b[0m\n",
      "\u001b[2m20:34:29|\u001b[0mgym-duckietown\u001b[2m|simulator.py:1202|_valid_pose(): \u001b[0m\u001b[35mInvalid pose. Collision free: True On drivable area: False\u001b[0m\n",
      "\u001b[2m20:34:29|\u001b[0mgym-duckietown\u001b[2m|simulator.py:1203|_valid_pose(): \u001b[0m\u001b[35msafety_factor: 1.3\u001b[0m\n",
      "\u001b[2m20:34:29|\u001b[0mgym-duckietown\u001b[2m|simulator.py:1204|_valid_pose(): \u001b[0m\u001b[35mpos: [3.5769519  0.         2.04041348]\u001b[0m\n",
      "\u001b[2m20:34:29|\u001b[0mgym-duckietown\u001b[2m|simulator.py:1205|_valid_pose(): \u001b[0m\u001b[35ml_pos: [3.50186974 0.         2.10261411]\u001b[0m\n",
      "\u001b[2m20:34:29|\u001b[0mgym-duckietown\u001b[2m|simulator.py:1206|_valid_pose(): \u001b[0m\u001b[35mr_pos: [3.65203407 0.         1.97821284]\u001b[0m\n",
      "\u001b[2m20:34:29|\u001b[0mgym-duckietown\u001b[2m|simulator.py:1207|_valid_pose(): \u001b[0m\u001b[35mf_pos: [3.50231114 0.         1.95031488]\u001b[0m\n",
      "\u001b[2m20:34:29|\u001b[0mgym-duckietown\u001b[2m|simulator.py:1092|_drivable_pos(): \u001b[0m\u001b[35m[3.47260658 0.         1.77460142] corresponds to tile at (5, 3) which is not drivable: {'coords': (5, 3), 'kind': 'floor', 'angle': 0, 'drivable': False, 'texture': <simulation.gym_duckietown.graphics.Texture object at 0x7f391eba9978>, 'color': array([1, 1, 1])}\u001b[0m\n",
      "\u001b[2m20:34:29|\u001b[0mgym-duckietown\u001b[2m|simulator.py:1202|_valid_pose(): \u001b[0m\u001b[35mInvalid pose. Collision free: True On drivable area: False\u001b[0m\n",
      "\u001b[2m20:34:29|\u001b[0mgym-duckietown\u001b[2m|simulator.py:1203|_valid_pose(): \u001b[0m\u001b[35msafety_factor: 1.3\u001b[0m\n",
      "\u001b[2m20:34:29|\u001b[0mgym-duckietown\u001b[2m|simulator.py:1204|_valid_pose(): \u001b[0m\u001b[35mpos: [3.58708306 0.         1.75043253]\u001b[0m\n",
      "\u001b[2m20:34:29|\u001b[0mgym-duckietown\u001b[2m|simulator.py:1205|_valid_pose(): \u001b[0m\u001b[35ml_pos: [3.6072238 0.        1.8458296]\u001b[0m\n",
      "\u001b[2m20:34:29|\u001b[0mgym-duckietown\u001b[2m|simulator.py:1206|_valid_pose(): \u001b[0m\u001b[35mr_pos: [3.56694232 0.         1.65503546]\u001b[0m\n",
      "\u001b[2m20:34:29|\u001b[0mgym-duckietown\u001b[2m|simulator.py:1207|_valid_pose(): \u001b[0m\u001b[35mf_pos: [3.47260658 0.         1.77460142]\u001b[0m\n",
      "\u001b[2m20:34:29|\u001b[0mgym-duckietown\u001b[2m|simulator.py:1092|_drivable_pos(): \u001b[0m\u001b[35m[4.09934153 0.         1.85301864] corresponds to tile at (7, 3) which is not drivable: {'coords': (7, 3), 'kind': 'floor', 'angle': 0, 'drivable': False, 'texture': <simulation.gym_duckietown.graphics.Texture object at 0x7f391eba9978>, 'color': array([1, 1, 1])}\u001b[0m\n",
      "\u001b[2m20:34:29|\u001b[0mgym-duckietown\u001b[2m|simulator.py:1202|_valid_pose(): \u001b[0m\u001b[35mInvalid pose. Collision free: True On drivable area: False\u001b[0m\n",
      "\u001b[2m20:34:29|\u001b[0mgym-duckietown\u001b[2m|simulator.py:1203|_valid_pose(): \u001b[0m\u001b[35msafety_factor: 1.3\u001b[0m\n",
      "\u001b[2m20:34:29|\u001b[0mgym-duckietown\u001b[2m|simulator.py:1204|_valid_pose(): \u001b[0m\u001b[35mpos: [4.02300463 0.         1.79236447]\u001b[0m\n",
      "\u001b[2m20:34:29|\u001b[0mgym-duckietown\u001b[2m|simulator.py:1205|_valid_pose(): \u001b[0m\u001b[35ml_pos: [3.94666773 0.         1.7317103 ]\u001b[0m\n",
      "\u001b[2m20:34:29|\u001b[0mgym-duckietown\u001b[2m|simulator.py:1206|_valid_pose(): \u001b[0m\u001b[35mr_pos: [4.09934153 0.         1.85301864]\u001b[0m\n",
      "\u001b[2m20:34:29|\u001b[0mgym-duckietown\u001b[2m|simulator.py:1207|_valid_pose(): \u001b[0m\u001b[35mf_pos: [4.09578963 0.         1.70076019]\u001b[0m\n",
      "\u001b[2m20:34:29|\u001b[0mgym-duckietown\u001b[2m|simulator.py:1092|_drivable_pos(): \u001b[0m\u001b[35m[4.17105167 0.         1.80077003] corresponds to tile at (7, 3) which is not drivable: {'coords': (7, 3), 'kind': 'floor', 'angle': 0, 'drivable': False, 'texture': <simulation.gym_duckietown.graphics.Texture object at 0x7f391eba9978>, 'color': array([1, 1, 1])}\u001b[0m\n",
      "\u001b[2m20:34:29|\u001b[0mgym-duckietown\u001b[2m|simulator.py:1202|_valid_pose(): \u001b[0m\u001b[35mInvalid pose. Collision free: True On drivable area: False\u001b[0m\n",
      "\u001b[2m20:34:29|\u001b[0mgym-duckietown\u001b[2m|simulator.py:1203|_valid_pose(): \u001b[0m\u001b[35msafety_factor: 1.3\u001b[0m\n",
      "\u001b[2m20:34:29|\u001b[0mgym-duckietown\u001b[2m|simulator.py:1204|_valid_pose(): \u001b[0m\u001b[35mpos: [4.09036721 0.         1.85550821]\u001b[0m\n",
      "\u001b[2m20:34:29|\u001b[0mgym-duckietown\u001b[2m|simulator.py:1205|_valid_pose(): \u001b[0m\u001b[35ml_pos: [4.00968276 0.         1.9102464 ]\u001b[0m\n",
      "\u001b[2m20:34:29|\u001b[0mgym-duckietown\u001b[2m|simulator.py:1206|_valid_pose(): \u001b[0m\u001b[35mr_pos: [4.17105167 0.         1.80077003]\u001b[0m\n"
     ]
    },
    {
     "name": "stderr",
     "output_type": "stream",
     "text": [
      "\u001b[2m20:34:29|\u001b[0mgym-duckietown\u001b[2m|simulator.py:1207|_valid_pose(): \u001b[0m\u001b[35mf_pos: [4.02468139 0.         1.75868687]\u001b[0m\n",
      "\u001b[2m20:34:29|\u001b[0mgym-duckietown\u001b[2m|simulator.py:1092|_drivable_pos(): \u001b[0m\u001b[35m[3.49620504 0.         2.20742184] corresponds to tile at (5, 3) which is not drivable: {'coords': (5, 3), 'kind': 'floor', 'angle': 0, 'drivable': False, 'texture': <simulation.gym_duckietown.graphics.Texture object at 0x7f391eba9978>, 'color': array([1, 1, 1])}\u001b[0m\n",
      "\u001b[2m20:34:29|\u001b[0mgym-duckietown\u001b[2m|simulator.py:1202|_valid_pose(): \u001b[0m\u001b[35mInvalid pose. Collision free: True On drivable area: False\u001b[0m\n",
      "\u001b[2m20:34:29|\u001b[0mgym-duckietown\u001b[2m|simulator.py:1203|_valid_pose(): \u001b[0m\u001b[35msafety_factor: 1.3\u001b[0m\n",
      "\u001b[2m20:34:29|\u001b[0mgym-duckietown\u001b[2m|simulator.py:1204|_valid_pose(): \u001b[0m\u001b[35mpos: [3.57500004 0.         2.14999713]\u001b[0m\n",
      "\u001b[2m20:34:29|\u001b[0mgym-duckietown\u001b[2m|simulator.py:1205|_valid_pose(): \u001b[0m\u001b[35ml_pos: [3.49620504 0.         2.20742184]\u001b[0m\n",
      "\u001b[2m20:34:29|\u001b[0mgym-duckietown\u001b[2m|simulator.py:1206|_valid_pose(): \u001b[0m\u001b[35mr_pos: [3.65379505 0.         2.09257242]\u001b[0m\n",
      "\u001b[2m20:34:29|\u001b[0mgym-duckietown\u001b[2m|simulator.py:1207|_valid_pose(): \u001b[0m\u001b[35mf_pos: [3.50609039 0.         2.05544313]\u001b[0m\n",
      "\u001b[2m20:34:29|\u001b[0mgym-duckietown\u001b[2m|simulator.py:1092|_drivable_pos(): \u001b[0m\u001b[35m[4.12972415 0.         2.27350789] corresponds to tile at (7, 3) which is not drivable: {'coords': (7, 3), 'kind': 'floor', 'angle': 0, 'drivable': False, 'texture': <simulation.gym_duckietown.graphics.Texture object at 0x7f391eba9978>, 'color': array([1, 1, 1])}\u001b[0m\n",
      "\u001b[2m20:34:29|\u001b[0mgym-duckietown\u001b[2m|simulator.py:1202|_valid_pose(): \u001b[0m\u001b[35mInvalid pose. Collision free: True On drivable area: False\u001b[0m\n",
      "\u001b[2m20:34:29|\u001b[0mgym-duckietown\u001b[2m|simulator.py:1203|_valid_pose(): \u001b[0m\u001b[35msafety_factor: 1.3\u001b[0m\n",
      "\u001b[2m20:34:29|\u001b[0mgym-duckietown\u001b[2m|simulator.py:1204|_valid_pose(): \u001b[0m\u001b[35mpos: [4.022444   0.         2.32019802]\u001b[0m\n",
      "\u001b[2m20:34:29|\u001b[0mgym-duckietown\u001b[2m|simulator.py:1205|_valid_pose(): \u001b[0m\u001b[35ml_pos: [3.98353555 0.         2.23079789]\u001b[0m\n",
      "\u001b[2m20:34:29|\u001b[0mgym-duckietown\u001b[2m|simulator.py:1206|_valid_pose(): \u001b[0m\u001b[35mr_pos: [4.06135244 0.         2.40959815]\u001b[0m\n",
      "\u001b[2m20:34:29|\u001b[0mgym-duckietown\u001b[2m|simulator.py:1207|_valid_pose(): \u001b[0m\u001b[35mf_pos: [4.12972415 0.         2.27350789]\u001b[0m\n",
      "\u001b[2m20:34:29|\u001b[0mgym-duckietown\u001b[2m|simulator.py:1092|_drivable_pos(): \u001b[0m\u001b[35m[4.14789125 0.         1.98595245] corresponds to tile at (7, 3) which is not drivable: {'coords': (7, 3), 'kind': 'floor', 'angle': 0, 'drivable': False, 'texture': <simulation.gym_duckietown.graphics.Texture object at 0x7f391eba9978>, 'color': array([1, 1, 1])}\u001b[0m\n",
      "\u001b[2m20:34:29|\u001b[0mgym-duckietown\u001b[2m|simulator.py:1202|_valid_pose(): \u001b[0m\u001b[35mInvalid pose. Collision free: True On drivable area: False\u001b[0m\n",
      "\u001b[2m20:34:29|\u001b[0mgym-duckietown\u001b[2m|simulator.py:1203|_valid_pose(): \u001b[0m\u001b[35msafety_factor: 1.3\u001b[0m\n",
      "\u001b[2m20:34:29|\u001b[0mgym-duckietown\u001b[2m|simulator.py:1204|_valid_pose(): \u001b[0m\u001b[35mpos: [4.05139065 0.         1.99987665]\u001b[0m\n",
      "\u001b[2m20:34:29|\u001b[0mgym-duckietown\u001b[2m|simulator.py:1205|_valid_pose(): \u001b[0m\u001b[35ml_pos: [3.95489004 0.         2.01380085]\u001b[0m\n",
      "\u001b[2m20:34:29|\u001b[0mgym-duckietown\u001b[2m|simulator.py:1206|_valid_pose(): \u001b[0m\u001b[35mr_pos: [4.14789125 0.         1.98595245]\u001b[0m\n",
      "\u001b[2m20:34:29|\u001b[0mgym-duckietown\u001b[2m|simulator.py:1207|_valid_pose(): \u001b[0m\u001b[35mf_pos: [4.0346816  0.         1.88407592]\u001b[0m\n",
      "\u001b[2m20:34:29|\u001b[0mgym-duckietown\u001b[2m|simulator.py:1092|_drivable_pos(): \u001b[0m\u001b[35m[3.50005426 0.         1.72007355] corresponds to tile at (5, 2) which is not drivable: {'coords': (5, 2), 'kind': 'floor', 'angle': 0, 'drivable': False, 'texture': <simulation.gym_duckietown.graphics.Texture object at 0x7f391eba9978>, 'color': array([1, 1, 1])}\u001b[0m\n",
      "\u001b[2m20:34:29|\u001b[0mgym-duckietown\u001b[2m|simulator.py:1202|_valid_pose(): \u001b[0m\u001b[35mInvalid pose. Collision free: True On drivable area: False\u001b[0m\n",
      "\u001b[2m20:34:29|\u001b[0mgym-duckietown\u001b[2m|simulator.py:1203|_valid_pose(): \u001b[0m\u001b[35msafety_factor: 1.3\u001b[0m\n",
      "\u001b[2m20:34:29|\u001b[0mgym-duckietown\u001b[2m|simulator.py:1204|_valid_pose(): \u001b[0m\u001b[35mpos: [3.58276167 0.         1.80282911]\u001b[0m\n",
      "\u001b[2m20:34:29|\u001b[0mgym-duckietown\u001b[2m|simulator.py:1205|_valid_pose(): \u001b[0m\u001b[35ml_pos: [3.5137987  0.         1.87175196]\u001b[0m\n",
      "\u001b[2m20:34:29|\u001b[0mgym-duckietown\u001b[2m|simulator.py:1206|_valid_pose(): \u001b[0m\u001b[35mr_pos: [3.65172464 0.         1.73390626]\u001b[0m\n",
      "\u001b[2m20:34:29|\u001b[0mgym-duckietown\u001b[2m|simulator.py:1207|_valid_pose(): \u001b[0m\u001b[35mf_pos: [3.50005426 0.         1.72007355]\u001b[0m\n",
      "\u001b[2m20:34:29|\u001b[0mgym-duckietown\u001b[2m|simulator.py:1092|_drivable_pos(): \u001b[0m\u001b[35m[3.49842474 0.         1.9311518 ] corresponds to tile at (5, 3) which is not drivable: {'coords': (5, 3), 'kind': 'floor', 'angle': 0, 'drivable': False, 'texture': <simulation.gym_duckietown.graphics.Texture object at 0x7f391eba9978>, 'color': array([1, 1, 1])}\u001b[0m\n",
      "\u001b[2m20:34:29|\u001b[0mgym-duckietown\u001b[2m|simulator.py:1202|_valid_pose(): \u001b[0m\u001b[35mInvalid pose. Collision free: True On drivable area: False\u001b[0m\n",
      "\u001b[2m20:34:29|\u001b[0mgym-duckietown\u001b[2m|simulator.py:1203|_valid_pose(): \u001b[0m\u001b[35msafety_factor: 1.3\u001b[0m\n",
      "\u001b[2m20:34:29|\u001b[0mgym-duckietown\u001b[2m|simulator.py:1204|_valid_pose(): \u001b[0m\u001b[35mpos: [3.60040652 0.         1.87380448]\u001b[0m\n",
      "\u001b[2m20:34:29|\u001b[0mgym-duckietown\u001b[2m|simulator.py:1205|_valid_pose(): \u001b[0m\u001b[35ml_pos: [3.64819596 0.         1.9587893 ]\u001b[0m\n",
      "\u001b[2m20:34:29|\u001b[0mgym-duckietown\u001b[2m|simulator.py:1206|_valid_pose(): \u001b[0m\u001b[35mr_pos: [3.55261709 0.         1.78881966]\u001b[0m\n",
      "\u001b[2m20:34:29|\u001b[0mgym-duckietown\u001b[2m|simulator.py:1207|_valid_pose(): \u001b[0m\u001b[35mf_pos: [3.49842474 0.         1.9311518 ]\u001b[0m\n",
      "\u001b[2m20:34:29|\u001b[0mgym-duckietown\u001b[2m|simulator.py:1092|_drivable_pos(): \u001b[0m\u001b[35m[4.1279325  0.         2.40562151] corresponds to tile at (7, 4) which is not drivable: {'coords': (7, 4), 'kind': 'floor', 'angle': 0, 'drivable': False, 'texture': <simulation.gym_duckietown.graphics.Texture object at 0x7f391eba9978>, 'color': array([1, 1, 1])}\u001b[0m\n",
      "\u001b[2m20:34:29|\u001b[0mgym-duckietown\u001b[2m|simulator.py:1202|_valid_pose(): \u001b[0m\u001b[35mInvalid pose. Collision free: True On drivable area: False\u001b[0m\n",
      "\u001b[2m20:34:29|\u001b[0mgym-duckietown\u001b[2m|simulator.py:1203|_valid_pose(): \u001b[0m\u001b[35msafety_factor: 1.3\u001b[0m\n",
      "\u001b[2m20:34:29|\u001b[0mgym-duckietown\u001b[2m|simulator.py:1204|_valid_pose(): \u001b[0m\u001b[35mpos: [4.04505092 0.         2.35427082]\u001b[0m\n",
      "\u001b[2m20:34:29|\u001b[0mgym-duckietown\u001b[2m|simulator.py:1205|_valid_pose(): \u001b[0m\u001b[35ml_pos: [3.96216934 0.         2.30292013]\u001b[0m\n",
      "\u001b[2m20:34:29|\u001b[0mgym-duckietown\u001b[2m|simulator.py:1206|_valid_pose(): \u001b[0m\u001b[35mr_pos: [4.1279325  0.         2.40562151]\u001b[0m\n",
      "\u001b[2m20:34:29|\u001b[0mgym-duckietown\u001b[2m|simulator.py:1207|_valid_pose(): \u001b[0m\u001b[35mf_pos: [4.10667175 0.         2.25481292]\u001b[0m\n",
      "\u001b[2m20:34:29|\u001b[0mgym-duckietown\u001b[2m|simulator.py:1092|_drivable_pos(): \u001b[0m\u001b[35m[3.4840149 0.        2.2828545] corresponds to tile at (5, 3) which is not drivable: {'coords': (5, 3), 'kind': 'floor', 'angle': 0, 'drivable': False, 'texture': <simulation.gym_duckietown.graphics.Texture object at 0x7f391eba9978>, 'color': array([1, 1, 1])}\u001b[0m\n",
      "\u001b[2m20:34:29|\u001b[0mgym-duckietown\u001b[2m|simulator.py:1202|_valid_pose(): \u001b[0m\u001b[35mInvalid pose. Collision free: True On drivable area: False\u001b[0m\n",
      "\u001b[2m20:34:29|\u001b[0mgym-duckietown\u001b[2m|simulator.py:1203|_valid_pose(): \u001b[0m\u001b[35msafety_factor: 1.3\u001b[0m\n",
      "\u001b[2m20:34:29|\u001b[0mgym-duckietown\u001b[2m|simulator.py:1204|_valid_pose(): \u001b[0m\u001b[35mpos: [3.57730109 0.         2.31120829]\u001b[0m\n",
      "\u001b[2m20:34:29|\u001b[0mgym-duckietown\u001b[2m|simulator.py:1205|_valid_pose(): \u001b[0m\u001b[35ml_pos: [3.4840149 0.        2.2828545]\u001b[0m\n",
      "\u001b[2m20:34:29|\u001b[0mgym-duckietown\u001b[2m|simulator.py:1206|_valid_pose(): \u001b[0m\u001b[35mr_pos: [3.67058727 0.         2.33956208]\u001b[0m\n",
      "\u001b[2m20:34:29|\u001b[0mgym-duckietown\u001b[2m|simulator.py:1207|_valid_pose(): \u001b[0m\u001b[35mf_pos: [3.61132563 0.         2.19926486]\u001b[0m\n",
      "\u001b[2m20:34:29|\u001b[0mgym-duckietown\u001b[2m|simulator.py:516|reset(): \u001b[0m\u001b[32mStarting at [3.89201099 0.         2.08907339] 1.6292900738092628\u001b[0m\n",
      "\u001b[2m20:34:29|\u001b[0mgym-duckietown\u001b[2m|simulator.py:1412|_render_img(): \u001b[0m\u001b[32mPos: [3.89201099 0.         2.08907339] angle 1.6292900738092628\u001b[0m\n",
      "/home/bhairavm/miniconda3/lib/python3.7/site-packages/gym/logger.py:30: UserWarning: \u001b[33mWARN: Trying to monitor an environment which has no 'spec' set. This usually means you did not create it via 'gym.make', and is recommended only for advanced users.\u001b[0m\n",
      "  warnings.warn(colorize('%s: %s'%('WARN', msg % args), 'yellow'))\n",
      "\u001b[2m20:34:34|\u001b[0mgym-duckietown\u001b[2m|simulator.py:1092|_drivable_pos(): \u001b[0m\u001b[35m[2.33703727 0.         2.57700384] corresponds to tile at (3, 4) which is not drivable: {'coords': (3, 4), 'kind': 'floor', 'angle': 0, 'drivable': False, 'texture': <simulation.gym_duckietown.graphics.Texture object at 0x7f391eba9978>, 'color': array([1, 1, 1])}\u001b[0m\n"
     ]
    },
    {
     "name": "stderr",
     "output_type": "stream",
     "text": [
      "\u001b[2m20:34:34|\u001b[0mgym-duckietown\u001b[2m|simulator.py:1202|_valid_pose(): \u001b[0m\u001b[35mInvalid pose. Collision free: True On drivable area: False\u001b[0m\n",
      "\u001b[2m20:34:34|\u001b[0mgym-duckietown\u001b[2m|simulator.py:1203|_valid_pose(): \u001b[0m\u001b[35msafety_factor: 1.3\u001b[0m\n",
      "\u001b[2m20:34:34|\u001b[0mgym-duckietown\u001b[2m|simulator.py:1204|_valid_pose(): \u001b[0m\u001b[35mpos: [2.33703727 0.         2.57700384]\u001b[0m\n",
      "\u001b[2m20:34:34|\u001b[0mgym-duckietown\u001b[2m|simulator.py:1205|_valid_pose(): \u001b[0m\u001b[35ml_pos: [2.24568806 0.         2.542922  ]\u001b[0m\n",
      "\u001b[2m20:34:34|\u001b[0mgym-duckietown\u001b[2m|simulator.py:1206|_valid_pose(): \u001b[0m\u001b[35mr_pos: [2.42838647 0.         2.61108568]\u001b[0m\n",
      "\u001b[2m20:34:34|\u001b[0mgym-duckietown\u001b[2m|simulator.py:1207|_valid_pose(): \u001b[0m\u001b[35mf_pos: [2.37793548 0.         2.46738479]\u001b[0m\n",
      "\u001b[2m20:34:34|\u001b[0mgym-duckietown\u001b[2m|simulator.py:1092|_drivable_pos(): \u001b[0m\u001b[35m[2.28873639 0.         2.68406941] corresponds to tile at (3, 4) which is not drivable: {'coords': (3, 4), 'kind': 'floor', 'angle': 0, 'drivable': False, 'texture': <simulation.gym_duckietown.graphics.Texture object at 0x7f391eba9978>, 'color': array([1, 1, 1])}\u001b[0m\n",
      "\u001b[2m20:34:34|\u001b[0mgym-duckietown\u001b[2m|simulator.py:1202|_valid_pose(): \u001b[0m\u001b[35mInvalid pose. Collision free: True On drivable area: False\u001b[0m\n",
      "\u001b[2m20:34:34|\u001b[0mgym-duckietown\u001b[2m|simulator.py:1203|_valid_pose(): \u001b[0m\u001b[35msafety_factor: 1.3\u001b[0m\n",
      "\u001b[2m20:34:34|\u001b[0mgym-duckietown\u001b[2m|simulator.py:1204|_valid_pose(): \u001b[0m\u001b[35mpos: [2.38071712 0.         2.71640816]\u001b[0m\n",
      "\u001b[2m20:34:34|\u001b[0mgym-duckietown\u001b[2m|simulator.py:1205|_valid_pose(): \u001b[0m\u001b[35ml_pos: [2.28873639 0.         2.68406941]\u001b[0m\n",
      "\u001b[2m20:34:34|\u001b[0mgym-duckietown\u001b[2m|simulator.py:1206|_valid_pose(): \u001b[0m\u001b[35mr_pos: [2.47269785 0.         2.74874692]\u001b[0m\n",
      "\u001b[2m20:34:34|\u001b[0mgym-duckietown\u001b[2m|simulator.py:1207|_valid_pose(): \u001b[0m\u001b[35mf_pos: [2.41952363 0.         2.60603129]\u001b[0m\n",
      "\u001b[2m20:34:34|\u001b[0mgym-duckietown\u001b[2m|simulator.py:516|reset(): \u001b[0m\u001b[32mStarting at [2.64153703 0.         2.88468928] 4.836049502872963\u001b[0m\n",
      "\u001b[2m20:34:34|\u001b[0mgym-duckietown\u001b[2m|simulator.py:1412|_render_img(): \u001b[0m\u001b[32mPos: [2.64153703 0.         2.88468928] angle 4.836049502872963\u001b[0m\n",
      "\u001b[2m20:34:34|\u001b[0mgym-duckietown\u001b[2m|simulator.py:1412|_render_img(): \u001b[0m\u001b[32mPos: [2.64153703 0.         2.88468928] angle 4.836049502872963\u001b[0m\n",
      "\u001b[2m20:34:34|\u001b[0mgym-duckietown\u001b[2m|simulator.py:1412|_render_img(): \u001b[0m\u001b[32mPos: [2.64178372 0.         2.88667401] angle 4.836049502872963\u001b[0m\n",
      "\u001b[2m20:34:34|\u001b[0mgym-duckietown\u001b[2m|simulator.py:1412|_render_img(): \u001b[0m\u001b[32mPos: [2.64178372 0.         2.88667401] angle 4.836049502872963\u001b[0m\n",
      "\u001b[2m20:34:34|\u001b[0mgym-duckietown\u001b[2m|simulator.py:1412|_render_img(): \u001b[0m\u001b[32mPos: [2.64203041 0.         2.88865874] angle 4.836049502872963\u001b[0m\n",
      "\u001b[2m20:34:34|\u001b[0mgym-duckietown\u001b[2m|simulator.py:1412|_render_img(): \u001b[0m\u001b[32mPos: [2.64203041 0.         2.88865874] angle 4.836049502872963\u001b[0m\n",
      "\u001b[2m20:34:34|\u001b[0mgym-duckietown\u001b[2m|simulator.py:1412|_render_img(): \u001b[0m\u001b[32mPos: [2.6422771  0.         2.89064346] angle 4.836049502872963\u001b[0m\n",
      "\u001b[2m20:34:34|\u001b[0mgym-duckietown\u001b[2m|simulator.py:1412|_render_img(): \u001b[0m\u001b[32mPos: [2.6422771  0.         2.89064346] angle 4.836049502872963\u001b[0m\n",
      "\u001b[2m20:34:34|\u001b[0mgym-duckietown\u001b[2m|simulator.py:1412|_render_img(): \u001b[0m\u001b[32mPos: [2.6425238  0.         2.89262819] angle 4.836049502872963\u001b[0m\n",
      "\u001b[2m20:34:34|\u001b[0mgym-duckietown\u001b[2m|simulator.py:1412|_render_img(): \u001b[0m\u001b[32mPos: [2.6425238  0.         2.89262819] angle 4.836049502872963\u001b[0m\n",
      "\u001b[2m20:34:34|\u001b[0mgym-duckietown\u001b[2m|simulator.py:1412|_render_img(): \u001b[0m\u001b[32mPos: [2.64277049 0.         2.89461292] angle 4.836049502872963\u001b[0m\n"
     ]
    },
    {
     "name": "stdout",
     "output_type": "stream",
     "text": [
      "You can do it!\n",
      "You can do it!\n",
      "You can do it!\n",
      "You can do it!\n",
      "You can do it!\n"
     ]
    },
    {
     "name": "stderr",
     "output_type": "stream",
     "text": [
      "\u001b[2m20:34:34|\u001b[0mgym-duckietown\u001b[2m|simulator.py:1412|_render_img(): \u001b[0m\u001b[32mPos: [2.64277049 0.         2.89461292] angle 4.836049502872963\u001b[0m\n",
      "\u001b[2m20:34:34|\u001b[0mgym-duckietown\u001b[2m|simulator.py:1412|_render_img(): \u001b[0m\u001b[32mPos: [2.64301718 0.         2.89659765] angle 4.836049502872963\u001b[0m\n",
      "\u001b[2m20:34:34|\u001b[0mgym-duckietown\u001b[2m|simulator.py:1412|_render_img(): \u001b[0m\u001b[32mPos: [2.64301718 0.         2.89659765] angle 4.836049502872963\u001b[0m\n",
      "\u001b[2m20:34:34|\u001b[0mgym-duckietown\u001b[2m|simulator.py:1412|_render_img(): \u001b[0m\u001b[32mPos: [2.64326387 0.         2.89858237] angle 4.836049502872963\u001b[0m\n",
      "\u001b[2m20:34:34|\u001b[0mgym-duckietown\u001b[2m|simulator.py:1412|_render_img(): \u001b[0m\u001b[32mPos: [2.64326387 0.         2.89858237] angle 4.836049502872963\u001b[0m\n",
      "\u001b[2m20:34:34|\u001b[0mgym-duckietown\u001b[2m|simulator.py:1412|_render_img(): \u001b[0m\u001b[32mPos: [2.64351056 0.         2.9005671 ] angle 4.836049502872963\u001b[0m\n",
      "\u001b[2m20:34:34|\u001b[0mgym-duckietown\u001b[2m|simulator.py:1412|_render_img(): \u001b[0m\u001b[32mPos: [2.64351056 0.         2.9005671 ] angle 4.836049502872963\u001b[0m\n",
      "\u001b[2m20:34:34|\u001b[0mgym-duckietown\u001b[2m|simulator.py:1412|_render_img(): \u001b[0m\u001b[32mPos: [2.64375725 0.         2.90255183] angle 4.836049502872963\u001b[0m\n",
      "\u001b[2m20:34:34|\u001b[0mgym-duckietown\u001b[2m|simulator.py:1412|_render_img(): \u001b[0m\u001b[32mPos: [2.64375725 0.         2.90255183] angle 4.836049502872963\u001b[0m\n",
      "\u001b[2m20:34:34|\u001b[0mgym-duckietown\u001b[2m|simulator.py:1412|_render_img(): \u001b[0m\u001b[32mPos: [2.64400394 0.         2.90453656] angle 4.836049502872963\u001b[0m\n"
     ]
    },
    {
     "name": "stdout",
     "output_type": "stream",
     "text": [
      "You can do it!\n",
      "You can do it!\n",
      "You can do it!\n",
      "You can do it!\n",
      "You can do it!\n"
     ]
    },
    {
     "name": "stderr",
     "output_type": "stream",
     "text": [
      "\u001b[2m20:34:34|\u001b[0mgym-duckietown\u001b[2m|simulator.py:1412|_render_img(): \u001b[0m\u001b[32mPos: [2.64400394 0.         2.90453656] angle 4.836049502872963\u001b[0m\n"
     ]
    }
   ],
   "source": [
    "local_env = launch_env(updatedSimulator)\n",
    "local_env = wrap_env(local_env)\n",
    "\n",
    "local_env.robot_speed *= 5\n",
    "local_env.reset()\n",
    "for _ in range(10):\n",
    "    _, _, d, _ = local_env.step(np.random.random(2))\n",
    "    if d: local_env.reset() "
   ]
  }
 ],
 "metadata": {
  "kernelspec": {
   "display_name": "Python 3",
   "language": "python",
   "name": "python3"
  },
  "language_info": {
   "codemirror_mode": {
    "name": "ipython",
    "version": 3
   },
   "file_extension": ".py",
   "mimetype": "text/x-python",
   "name": "python",
   "nbconvert_exporter": "python",
   "pygments_lexer": "ipython3",
   "version": "3.7.3"
  }
 },
 "nbformat": 4,
 "nbformat_minor": 2
}
