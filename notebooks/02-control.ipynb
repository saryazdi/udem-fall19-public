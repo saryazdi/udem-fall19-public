{
 "cells": [
  {
   "cell_type": "markdown",
   "metadata": {},
   "source": [
    "# Control\n",
    "Duckietown exercises for September 23rd, 2019\n",
    "\n",
    "\n",
    "## Mission: lane following\n",
    "\n",
    "In the Kinematics section, we saw how to translate linear and angular velocity commands into wheel rate. Now, that's great, but the next step is to know which linear and velocity commands we need to send to the Duckiebot.\n",
    "\n",
    "In this section, you will setup a controller that keeps the Duckiebot on the road. In this exercise, you will use a simulated Duckietown.\n",
    "First, run this code to setup the environment:"
   ]
  },
  {
   "cell_type": "code",
   "execution_count": null,
   "metadata": {},
   "outputs": [],
   "source": [
    "import os, sys\n",
    "module_path = os.path.abspath(os.path.join('..'))\n",
    "if module_path not in sys.path:\n",
    "    sys.path.append(module_path)\n",
    "    \n",
    "from utils.helpers import launch_env, wrap_env, view_results_ipython\n",
    "from simulation.gym_duckietown.wrappers import SteeringToWheelVelWrapper\n",
    "import numpy as np"
   ]
  },
  {
   "cell_type": "markdown",
   "metadata": {},
   "source": [
    "As this is a simulation, you have access in real time to the true value of two variables: the distance of the Duckietown to the middle of the lane, and its angle with respect to the lane direction.\n",
    "That's very practical: your objective is to get the Duckiebot to stay as much as possible in the center and direction of the lane!\n",
    "\n",
    "In your file `notebooks/code/exercise_02_control/your_classes.py`, complete function `angle_control_commands`. Update `omega` (angular speed) to achieve your goal while keeping `v` constant."
   ]
  },
  {
   "cell_type": "code",
   "execution_count": null,
   "metadata": {},
   "outputs": [],
   "source": [
    "from notebooks.code.exercise_02_control.your_classes import Controller\n",
    "\n",
    "# Setting up the environment\n",
    "local_env = launch_env()\n",
    "local_env = SteeringToWheelVelWrapper(wrap_env(local_env))\n",
    "local_env.reset()\n",
    "local_env.robot_speed = 0.5\n",
    "total_reward = 0        \n",
    "controller = Controller()\n",
    "    \n",
    "# Starting to drive\n",
    "for _ in range(1000):\n",
    "    # Getting the pose\n",
    "    lane_pose = local_env.get_lane_pos2(local_env.cur_pos, local_env.cur_angle)\n",
    "    dist = lane_pose.dist        # Distance to lane center. Left is negative, right is positive.\n",
    "    angle = lane_pose.angle_rad  # Angle from straight, in radians. Left is negative, right is positive.\n",
    "    \n",
    "    # Control\n",
    "    v = 0.5  # For now, keep linear velocity constant                                                \n",
    "    omega = controller.angle_control_commands(dist, angle)\n",
    "    commands = np.array([v, omega])\n",
    "    \n",
    "    # Step\n",
    "    _, r, d, _ = local_env.step(commands)\n",
    "    total_reward += r\n",
    "    \n",
    "    if d: \n",
    "        print(\"Duckiebot crashed.\")\n",
    "        break\n",
    "        \n",
    "        \n",
    "local_env.close()"
   ]
  },
  {
   "cell_type": "markdown",
   "metadata": {},
   "source": [
    "You can see how well you are doing:"
   ]
  },
  {
   "cell_type": "code",
   "execution_count": null,
   "metadata": {},
   "outputs": [],
   "source": [
    "print(\"Your score: {}\".format(total_reward))\n",
    "view_results_ipython(local_env)"
   ]
  },
  {
   "cell_type": "markdown",
   "metadata": {},
   "source": [
    "**Question 1**:\n",
    "\n",
    "Describe the method you used. What kind of controller is it?\n",
    "\n",
    "Write your answers in a text fil in your submission: **control-answers.txt**"
   ]
  },
  {
   "cell_type": "markdown",
   "metadata": {},
   "source": [
    "## Faster: control linear velocity!\n",
    "\n",
    "Wanna go faster?\n",
    "\n",
    "Modify function `control_commands` and change `v` and `omega`.\n",
    "\n"
   ]
  },
  {
   "cell_type": "code",
   "execution_count": null,
   "metadata": {},
   "outputs": [],
   "source": [
    "from notebooks.code.exercise_02_control.your_classes import Controller\n",
    "\n",
    "# Reset environment\n",
    "local_env = launch_env()\n",
    "local_env = SteeringToWheelVelWrapper(wrap_env(local_env))\n",
    "local_env.reset()\n",
    "local_env.robot_speed = 0.5\n",
    "controller = Controller()\n",
    "total_reward = 0             \n",
    "    \n",
    "# Starting to drive\n",
    "for _ in range(1000):\n",
    "    # Getting the pose\n",
    "    lane_pose = local_env.get_lane_pos2(local_env.cur_pos, local_env.cur_angle)\n",
    "    dist = lane_pose.dist        # Distance to lane center. Left is negative, right is positive.\n",
    "    angle = lane_pose.angle_rad  # Angle from straight, in radians  Left is negative, right is positive.\n",
    "    \n",
    "    # Control\n",
    "    v, omega = controller.control_commands(dist, angle)\n",
    "    commands = np.array([v, omega])\n",
    "    \n",
    "    # Step\n",
    "    _, r, d, _ = local_env.step(commands)\n",
    "    total_reward += r\n",
    "    \n",
    "    if d: \n",
    "        print(\"Duckiebot crashed.\")\n",
    "        break\n",
    "        \n",
    "local_env.close()"
   ]
  },
  {
   "cell_type": "markdown",
   "metadata": {},
   "source": [
    "Watch how fast you are going:"
   ]
  },
  {
   "cell_type": "code",
   "execution_count": null,
   "metadata": {},
   "outputs": [],
   "source": [
    "print(\"Your score: {}\".format(total_reward))\n",
    "view_results_ipython(local_env)"
   ]
  },
  {
   "cell_type": "markdown",
   "metadata": {},
   "source": [
    "**Question 2**:\n",
    "\n",
    "\n",
    "Does this allow you to go infinitely fast? If not, what are the limitations? If you decided not to keep `v` constant, how did you modulate it?\n",
    "\n",
    "Write your answers in a text file in your submission: **control-answers.txt**"
   ]
  }
 ],
 "metadata": {
  "kernelspec": {
   "display_name": "Python 3",
   "language": "python",
   "name": "python3"
  },
  "language_info": {
   "codemirror_mode": {
    "name": "ipython",
    "version": 3
   },
   "file_extension": ".py",
   "mimetype": "text/x-python",
   "name": "python",
   "nbconvert_exporter": "python",
   "pygments_lexer": "ipython3",
   "version": "3.7.1"
  }
 },
 "nbformat": 4,
 "nbformat_minor": 2
}
