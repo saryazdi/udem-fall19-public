{
 "cells": [
  {
   "cell_type": "markdown",
   "metadata": {},
   "source": [
    "# Path planning\n",
    "\n",
    "Duckietown exercises for Sept 30th, 2019\n",
    "\n",
    "\n",
    "In this exercise, you will complete the implementation of a RRT planner allowing your Duckiebot to go from your current position to a goal position in a road with obstacles.\n",
    "\n",
    "First, run this code. A window will pop-up with a top view of the environment your Duckiebot will go through. Apart from the loop, you should see some cones, a couple of lost Duckies and another Duckiebot on the road!"
   ]
  },
  {
   "cell_type": "code",
   "execution_count": null,
   "metadata": {},
   "outputs": [],
   "source": [
    "%matplotlib \n",
    "\n",
    "import os, sys\n",
    "import math\n",
    "module_path = os.path.abspath(os.path.join('..'))\n",
    "if module_path not in sys.path:\n",
    "    sys.path.append(module_path)\n",
    "from utils.helpers import launch_env, wrap_env, view_results_ipython, change_exercise, force_done, topViewSimulator, load_env_obstacles\n",
    "from simulation.gym_duckietown.wrappers import DiscreteWrapper, UndistortWrapper, SteeringToWheelVelWrapper\n",
    "from simulation.gym_duckietown.simulator import Simulator\n",
    "import matplotlib.pyplot as plt\n",
    "import numpy as np\n",
    "from pprint import pprint\n",
    "\n",
    "\n",
    "### Setting up environment \n",
    "local_env = topViewSimulator()\n",
    "local_env = launch_env(simclass = topViewSimulator, map_name =\"loop_obstacles\")\n",
    "local_env = wrap_env(local_env)\n",
    "local_env = SteeringToWheelVelWrapper(local_env)\n",
    "local_env.reset()\n",
    "\n",
    "### Bird view of environment\n",
    "plt.figure(0)\n",
    "obs, _, d, _ = local_env.step([0, 0])\n",
    "plt.imshow(obs, cmap='gray')\n",
    "plt.show()\n"
   ]
  },
  {
   "cell_type": "markdown",
   "metadata": {},
   "source": [
    "Here, we will define the settings of the path planning problem: the list of obstacles and the goal position.\n",
    "\n",
    "In this exercise, the obstacles are not moving. They are detected from the environment they are modelled as circular. Their info are given as such: \\[x, y, diameter\\]. Undrivable tiles are also represented by circular obstacles, so that the Duckiebot can only drive on the road."
   ]
  },
  {
   "cell_type": "code",
   "execution_count": null,
   "metadata": {},
   "outputs": [],
   "source": [
    "### Setting up the problem: list of obstacles and goal position\n",
    "# Goal position\n",
    "goal = [1,1]\n",
    "# List of obstacles\n",
    "list_obstacles = load_env_obstacles(local_env)\n",
    "print('\\n'.join('[{:f}, {:f}, {:f}]'.format(*obstacle) for obstacle in list_obstacles))"
   ]
  },
  {
   "cell_type": "markdown",
   "metadata": {},
   "source": [
    "This function allows you to build a path from your current position to the goal position while avoiding obstacles. The path is a list of x-y positions going backwards from the end goal to the start position. The planner uses the RRT (Rapid Random Tree) algorithm that you have seen in class.\n",
    "\n",
    "In this function, the `RRT_planner` class is called from your file `notebooks/code/exercise_03_path_planning/RRT.py`."
   ]
  },
  {
   "cell_type": "code",
   "execution_count": null,
   "metadata": {
    "scrolled": true
   },
   "outputs": [],
   "source": [
    "from notebooks.code.exercise_03_path_planning.RRT import RRT_planner\n",
    "\n",
    "def make_plan():\n",
    "    ### Problem parameters\n",
    "    # Start position\n",
    "    start = local_env.cur_pos[0], local_env.cur_pos[2]\n",
    "    # Area of exploration [x_min, x_max, y_min, y_max]\n",
    "    rand_area = [0, 4.5, 0, 4.5]\n",
    "    # No animation because we will call it many times in a row\n",
    "    show_anim = False\n",
    "    plt.figure(1)\n",
    "    \n",
    "    ### RRT Parameters\n",
    "    # Distance of each step\n",
    "    max_branch_length = 0.3\n",
    "    # Resolution of the path (at which obstacles are checked)\n",
    "    path_res = 0.1\n",
    "    # Goal sampling rate : probability to artificially sample the goal\n",
    "    goal_sample_rate=5\n",
    "    # Max number of iterations\n",
    "    max_iter = 10000\n",
    "    \n",
    "    ### Initializing and running the planner\n",
    "    rrt_planner = RRT_planner(start, goal, list_obstacles, rand_area, max_branch_length, path_res, goal_sample_rate, max_iter)\n",
    "    path = rrt_planner.plan(show_anim=show_anim)\n",
    "\n",
    "    ### Finalization\n",
    "    if path is None:\n",
    "        print(\"Cannot find path\")\n",
    "    else:\n",
    "        print(\"Found path!!\")\n",
    "        if True:\n",
    "            rrt_planner.draw_graph(final_path = path)\n",
    "    return path"
   ]
  },
  {
   "cell_type": "markdown",
   "metadata": {},
   "source": [
    "This function will make the Duckiebot go to the next point of the path in two steps using proportional control: first, your robot turns towards the goal point, then, it moves straight towards it."
   ]
  },
  {
   "cell_type": "code",
   "execution_count": null,
   "metadata": {},
   "outputs": [],
   "source": [
    "def go_to_next_point(new_path):\n",
    "    # Desired position is next point of the path\n",
    "    next_pos = new_path[-2]\n",
    "    # Current position and angle\n",
    "    cur_pos_x = local_env.cur_pos[0]\n",
    "    cur_pos_y = local_env.cur_pos[2]\n",
    "    cur_angle = local_env.cur_angle\n",
    "\n",
    "    ### Step 1: turn to reach the right angle\n",
    "    # Angle that we need to reach\n",
    "    x_diff = next_pos[0]-cur_pos_x\n",
    "    y_diff = next_pos[1]-cur_pos_y\n",
    "    angle_to_be = -1* np.angle(x_diff + y_diff * 1j) # Negative because of frame mismatch\n",
    "\n",
    "    # Turning with P control\n",
    "    while math.fabs(local_env.cur_angle%(2*np.pi) - angle_to_be%(2*np.pi)) > 0.05:\n",
    "        v = 0.\n",
    "        omega = (angle_to_be%(2*np.pi)-local_env.cur_angle%(2*np.pi) )\n",
    "        obs, _, d, _ = local_env.step([v, omega])\n",
    "        if d:\n",
    "            print(\"Crash\")\n",
    "            break\n",
    "\n",
    "    ### Step 2: move towards goal\n",
    "    # Compute distance\n",
    "    dist =  math.sqrt((local_env.cur_pos[0]-next_pos[0])**2 + (local_env.cur_pos[2]-next_pos[1])**2)\n",
    "    last_dist = math.inf\n",
    "    # Move forward until you reach the goal\n",
    "    while dist > 0.02 and last_dist > dist:\n",
    "        omega = 0\n",
    "        v = dist\n",
    "        obs, _, d, _ = local_env.step([v, omega])\n",
    "        last_dist = dist\n",
    "        dist = math.sqrt((local_env.cur_pos[0]-next_pos[0])**2 + (local_env.cur_pos[2]-next_pos[1])**2)\n",
    "        if d:\n",
    "            print(\"Crash\")\n",
    "            break"
   ]
  },
  {
   "cell_type": "markdown",
   "metadata": {},
   "source": [
    "Finally, we're ready to go! Let's alternate both planning and driving until you reach the goal."
   ]
  },
  {
   "cell_type": "code",
   "execution_count": null,
   "metadata": {},
   "outputs": [],
   "source": [
    "%matplotlib \n",
    "\n",
    "dist_to_goal =  math.sqrt((local_env.cur_pos[0]-goal[0])**2 + (local_env.cur_pos[2]-goal[1])**2)\n",
    "\n",
    "while dist_to_goal > 0.3:\n",
    "    my_path = make_plan()\n",
    "    if my_path is None:\n",
    "        break\n",
    "    go_to_next_point(my_path)\n",
    "    dist_to_goal =  math.sqrt((local_env.cur_pos[0]-goal[0])**2 + (local_env.cur_pos[2]-goal[1])**2)\n",
    "\n"
   ]
  },
  {
   "cell_type": "markdown",
   "metadata": {},
   "source": [
    "Ooops. Cannot find path? That's because the RRT planner is incomplete.\n",
    "\n",
    "**Your task:** Finish implementing the `plan()` function of the `RRT_planner` class, which lives in `notebooks/code/exercise_03_path_planning/RRT.py` (l. 55 to 62)\n",
    "\n",
    "Once you are done and the code above works (don't forget to run again the definition of `make_plan()` to enact your modifications), add the file **RRT.py** to your submission.\n",
    "\n",
    "You can see what is happening here:"
   ]
  },
  {
   "cell_type": "code",
   "execution_count": null,
   "metadata": {},
   "outputs": [],
   "source": [
    "local_env.close()\n",
    "view_results_ipython(local_env)"
   ]
  },
  {
   "cell_type": "markdown",
   "metadata": {},
   "source": [
    "**Question 1**\n",
    "\n",
    "Is it needed to re-plan everytime the first path point is reached? In which situation would it be critical?\n",
    "\n",
    "**Question 2**\n",
    "\n",
    "Is this the most efficient method to reach the goal? What could you do to improve it?\n",
    "\n",
    "**Question 3**\n",
    "\n",
    "What would happen if the Duckiebot was placed in an environment with very small obstacles? Would RRT be able to avoid them? Which parameters would you need to adjust, and what would be the side effects?\n",
    "\n",
    "Write your answers in a text file in your submission: **path-planning-answers.txt**"
   ]
  }
 ],
 "metadata": {
  "kernelspec": {
   "display_name": "Python 3",
   "language": "python",
   "name": "python3"
  },
  "language_info": {
   "codemirror_mode": {
    "name": "ipython",
    "version": 3
   },
   "file_extension": ".py",
   "mimetype": "text/x-python",
   "name": "python",
   "nbconvert_exporter": "python",
   "pygments_lexer": "ipython3",
   "version": "3.7.1"
  }
 },
 "nbformat": 4,
 "nbformat_minor": 2
}
